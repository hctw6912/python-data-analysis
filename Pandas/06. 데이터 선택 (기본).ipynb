{
 "cells": [
  {
   "cell_type": "markdown",
   "id": "2ac8021c-e908-4799-8b41-cee29e15c968",
   "metadata": {},
   "source": [
    "# 6. 데이터 선택 (기본)"
   ]
  },
  {
   "cell_type": "code",
   "execution_count": 1,
   "id": "03a21789-7e15-4aba-b0c2-4832a60c6d30",
   "metadata": {},
   "outputs": [
    {
     "data": {
      "text/html": [
       "<div>\n",
       "<style scoped>\n",
       "    .dataframe tbody tr th:only-of-type {\n",
       "        vertical-align: middle;\n",
       "    }\n",
       "\n",
       "    .dataframe tbody tr th {\n",
       "        vertical-align: top;\n",
       "    }\n",
       "\n",
       "    .dataframe thead th {\n",
       "        text-align: right;\n",
       "    }\n",
       "</style>\n",
       "<table border=\"1\" class=\"dataframe\">\n",
       "  <thead>\n",
       "    <tr style=\"text-align: right;\">\n",
       "      <th></th>\n",
       "      <th>이름</th>\n",
       "      <th>학교</th>\n",
       "      <th>키</th>\n",
       "      <th>국어</th>\n",
       "      <th>영어</th>\n",
       "      <th>수학</th>\n",
       "      <th>과학</th>\n",
       "      <th>사회</th>\n",
       "      <th>SW특기</th>\n",
       "    </tr>\n",
       "    <tr>\n",
       "      <th>지원번호</th>\n",
       "      <th></th>\n",
       "      <th></th>\n",
       "      <th></th>\n",
       "      <th></th>\n",
       "      <th></th>\n",
       "      <th></th>\n",
       "      <th></th>\n",
       "      <th></th>\n",
       "      <th></th>\n",
       "    </tr>\n",
       "  </thead>\n",
       "  <tbody>\n",
       "    <tr>\n",
       "      <th>1번</th>\n",
       "      <td>채치수</td>\n",
       "      <td>북산고</td>\n",
       "      <td>197</td>\n",
       "      <td>90</td>\n",
       "      <td>85</td>\n",
       "      <td>100</td>\n",
       "      <td>95</td>\n",
       "      <td>85</td>\n",
       "      <td>Python</td>\n",
       "    </tr>\n",
       "    <tr>\n",
       "      <th>2번</th>\n",
       "      <td>정대만</td>\n",
       "      <td>북산고</td>\n",
       "      <td>184</td>\n",
       "      <td>40</td>\n",
       "      <td>35</td>\n",
       "      <td>50</td>\n",
       "      <td>55</td>\n",
       "      <td>25</td>\n",
       "      <td>Java</td>\n",
       "    </tr>\n",
       "    <tr>\n",
       "      <th>3번</th>\n",
       "      <td>송태섭</td>\n",
       "      <td>북산고</td>\n",
       "      <td>168</td>\n",
       "      <td>80</td>\n",
       "      <td>75</td>\n",
       "      <td>70</td>\n",
       "      <td>80</td>\n",
       "      <td>75</td>\n",
       "      <td>Javascript</td>\n",
       "    </tr>\n",
       "    <tr>\n",
       "      <th>4번</th>\n",
       "      <td>서태웅</td>\n",
       "      <td>북산고</td>\n",
       "      <td>187</td>\n",
       "      <td>40</td>\n",
       "      <td>60</td>\n",
       "      <td>70</td>\n",
       "      <td>75</td>\n",
       "      <td>80</td>\n",
       "      <td>NaN</td>\n",
       "    </tr>\n",
       "    <tr>\n",
       "      <th>5번</th>\n",
       "      <td>강백호</td>\n",
       "      <td>북산고</td>\n",
       "      <td>188</td>\n",
       "      <td>15</td>\n",
       "      <td>20</td>\n",
       "      <td>10</td>\n",
       "      <td>35</td>\n",
       "      <td>10</td>\n",
       "      <td>NaN</td>\n",
       "    </tr>\n",
       "    <tr>\n",
       "      <th>6번</th>\n",
       "      <td>변덕규</td>\n",
       "      <td>능남고</td>\n",
       "      <td>202</td>\n",
       "      <td>80</td>\n",
       "      <td>100</td>\n",
       "      <td>95</td>\n",
       "      <td>85</td>\n",
       "      <td>80</td>\n",
       "      <td>C</td>\n",
       "    </tr>\n",
       "    <tr>\n",
       "      <th>7번</th>\n",
       "      <td>황태산</td>\n",
       "      <td>능남고</td>\n",
       "      <td>188</td>\n",
       "      <td>55</td>\n",
       "      <td>65</td>\n",
       "      <td>45</td>\n",
       "      <td>40</td>\n",
       "      <td>35</td>\n",
       "      <td>PYTHON</td>\n",
       "    </tr>\n",
       "    <tr>\n",
       "      <th>8번</th>\n",
       "      <td>윤대협</td>\n",
       "      <td>능남고</td>\n",
       "      <td>190</td>\n",
       "      <td>100</td>\n",
       "      <td>85</td>\n",
       "      <td>90</td>\n",
       "      <td>95</td>\n",
       "      <td>95</td>\n",
       "      <td>C#</td>\n",
       "    </tr>\n",
       "  </tbody>\n",
       "</table>\n",
       "</div>"
      ],
      "text/plain": [
       "       이름   학교    키   국어   영어   수학  과학  사회        SW특기\n",
       "지원번호                                                  \n",
       "1번    채치수  북산고  197   90   85  100  95  85      Python\n",
       "2번    정대만  북산고  184   40   35   50  55  25        Java\n",
       "3번    송태섭  북산고  168   80   75   70  80  75  Javascript\n",
       "4번    서태웅  북산고  187   40   60   70  75  80         NaN\n",
       "5번    강백호  북산고  188   15   20   10  35  10         NaN\n",
       "6번    변덕규  능남고  202   80  100   95  85  80           C\n",
       "7번    황태산  능남고  188   55   65   45  40  35      PYTHON\n",
       "8번    윤대협  능남고  190  100   85   90  95  95          C#"
      ]
     },
     "execution_count": 1,
     "metadata": {},
     "output_type": "execute_result"
    }
   ],
   "source": [
    "import pandas as pd\n",
    "\n",
    "df = pd.read_excel('score.xlsx', index_col = '지원번호')\n",
    "df"
   ]
  },
  {
   "cell_type": "markdown",
   "id": "4360921f-e0b0-41f5-ba8e-b464b7ac9d8a",
   "metadata": {},
   "source": [
    "## Column 선택 (label)"
   ]
  },
  {
   "cell_type": "code",
   "execution_count": 2,
   "id": "3f8f22bf-0c2b-4b0f-a5a0-81d3b0d77dcf",
   "metadata": {},
   "outputs": [
    {
     "data": {
      "text/plain": [
       "지원번호\n",
       "1번    채치수\n",
       "2번    정대만\n",
       "3번    송태섭\n",
       "4번    서태웅\n",
       "5번    강백호\n",
       "6번    변덕규\n",
       "7번    황태산\n",
       "8번    윤대협\n",
       "Name: 이름, dtype: object"
      ]
     },
     "execution_count": 2,
     "metadata": {},
     "output_type": "execute_result"
    }
   ],
   "source": [
    "df['이름']"
   ]
  },
  {
   "cell_type": "code",
   "execution_count": 3,
   "id": "15cac6f6-5a55-41d1-bafb-82cd6f2def2f",
   "metadata": {},
   "outputs": [
    {
     "data": {
      "text/plain": [
       "지원번호\n",
       "1번    197\n",
       "2번    184\n",
       "3번    168\n",
       "4번    187\n",
       "5번    188\n",
       "6번    202\n",
       "7번    188\n",
       "8번    190\n",
       "Name: 키, dtype: int64"
      ]
     },
     "execution_count": 3,
     "metadata": {},
     "output_type": "execute_result"
    }
   ],
   "source": [
    "df['키']"
   ]
  },
  {
   "cell_type": "code",
   "execution_count": 4,
   "id": "5fdda922-4219-4e91-aa85-5b1fff6997c8",
   "metadata": {},
   "outputs": [
    {
     "data": {
      "text/html": [
       "<div>\n",
       "<style scoped>\n",
       "    .dataframe tbody tr th:only-of-type {\n",
       "        vertical-align: middle;\n",
       "    }\n",
       "\n",
       "    .dataframe tbody tr th {\n",
       "        vertical-align: top;\n",
       "    }\n",
       "\n",
       "    .dataframe thead th {\n",
       "        text-align: right;\n",
       "    }\n",
       "</style>\n",
       "<table border=\"1\" class=\"dataframe\">\n",
       "  <thead>\n",
       "    <tr style=\"text-align: right;\">\n",
       "      <th></th>\n",
       "      <th>이름</th>\n",
       "      <th>키</th>\n",
       "    </tr>\n",
       "    <tr>\n",
       "      <th>지원번호</th>\n",
       "      <th></th>\n",
       "      <th></th>\n",
       "    </tr>\n",
       "  </thead>\n",
       "  <tbody>\n",
       "    <tr>\n",
       "      <th>1번</th>\n",
       "      <td>채치수</td>\n",
       "      <td>197</td>\n",
       "    </tr>\n",
       "    <tr>\n",
       "      <th>2번</th>\n",
       "      <td>정대만</td>\n",
       "      <td>184</td>\n",
       "    </tr>\n",
       "    <tr>\n",
       "      <th>3번</th>\n",
       "      <td>송태섭</td>\n",
       "      <td>168</td>\n",
       "    </tr>\n",
       "    <tr>\n",
       "      <th>4번</th>\n",
       "      <td>서태웅</td>\n",
       "      <td>187</td>\n",
       "    </tr>\n",
       "    <tr>\n",
       "      <th>5번</th>\n",
       "      <td>강백호</td>\n",
       "      <td>188</td>\n",
       "    </tr>\n",
       "    <tr>\n",
       "      <th>6번</th>\n",
       "      <td>변덕규</td>\n",
       "      <td>202</td>\n",
       "    </tr>\n",
       "    <tr>\n",
       "      <th>7번</th>\n",
       "      <td>황태산</td>\n",
       "      <td>188</td>\n",
       "    </tr>\n",
       "    <tr>\n",
       "      <th>8번</th>\n",
       "      <td>윤대협</td>\n",
       "      <td>190</td>\n",
       "    </tr>\n",
       "  </tbody>\n",
       "</table>\n",
       "</div>"
      ],
      "text/plain": [
       "       이름    키\n",
       "지원번호          \n",
       "1번    채치수  197\n",
       "2번    정대만  184\n",
       "3번    송태섭  168\n",
       "4번    서태웅  187\n",
       "5번    강백호  188\n",
       "6번    변덕규  202\n",
       "7번    황태산  188\n",
       "8번    윤대협  190"
      ]
     },
     "execution_count": 4,
     "metadata": {},
     "output_type": "execute_result"
    }
   ],
   "source": [
    "df[['이름','키']]"
   ]
  },
  {
   "cell_type": "markdown",
   "id": "534a7729-b25b-4844-9bec-9f7dbba8eb47",
   "metadata": {},
   "source": [
    "## Column 선택 (정수 Index)"
   ]
  },
  {
   "cell_type": "code",
   "execution_count": 6,
   "id": "dd61865f-cfea-49cf-a7bf-e65e59896e43",
   "metadata": {},
   "outputs": [
    {
     "data": {
      "text/plain": [
       "Index(['이름', '학교', '키', '국어', '영어', '수학', '과학', '사회', 'SW특기'], dtype='object')"
      ]
     },
     "execution_count": 6,
     "metadata": {},
     "output_type": "execute_result"
    }
   ],
   "source": [
    "df.columns"
   ]
  },
  {
   "cell_type": "code",
   "execution_count": 7,
   "id": "f37522f2-d5d1-43e7-ab44-16c87a40ebd9",
   "metadata": {},
   "outputs": [
    {
     "data": {
      "text/plain": [
       "'이름'"
      ]
     },
     "execution_count": 7,
     "metadata": {},
     "output_type": "execute_result"
    }
   ],
   "source": [
    "df.columns[0]"
   ]
  },
  {
   "cell_type": "code",
   "execution_count": 8,
   "id": "f73b9623-5bf8-499d-b395-ff3d0ad1369e",
   "metadata": {},
   "outputs": [
    {
     "data": {
      "text/plain": [
       "'키'"
      ]
     },
     "execution_count": 8,
     "metadata": {},
     "output_type": "execute_result"
    }
   ],
   "source": [
    "df.columns[2]"
   ]
  },
  {
   "cell_type": "code",
   "execution_count": 10,
   "id": "201ca0ec-55e5-4178-9563-f58eeef0adcf",
   "metadata": {},
   "outputs": [
    {
     "data": {
      "text/plain": [
       "지원번호\n",
       "1번    채치수\n",
       "2번    정대만\n",
       "3번    송태섭\n",
       "4번    서태웅\n",
       "5번    강백호\n",
       "6번    변덕규\n",
       "7번    황태산\n",
       "8번    윤대협\n",
       "Name: 이름, dtype: object"
      ]
     },
     "execution_count": 10,
     "metadata": {},
     "output_type": "execute_result"
    }
   ],
   "source": [
    "df[df.columns[0]] # df['이름'] 과 동일한 동작"
   ]
  },
  {
   "cell_type": "code",
   "execution_count": 14,
   "id": "4f857815-72d2-4fc7-a3af-c5e3d7e56020",
   "metadata": {},
   "outputs": [
    {
     "data": {
      "text/plain": [
       "지원번호\n",
       "1번        Python\n",
       "2번          Java\n",
       "3번    Javascript\n",
       "4번           NaN\n",
       "5번           NaN\n",
       "6번             C\n",
       "7번        PYTHON\n",
       "8번            C#\n",
       "Name: SW특기, dtype: object"
      ]
     },
     "execution_count": 14,
     "metadata": {},
     "output_type": "execute_result"
    }
   ],
   "source": [
    "df[df.columns[-1]] # 마지막 값을 가져옴"
   ]
  },
  {
   "cell_type": "markdown",
   "id": "3bbda39d-8863-4dbc-bd9a-4d07b8d376ea",
   "metadata": {},
   "source": [
    "## 슬라이싱"
   ]
  },
  {
   "cell_type": "code",
   "execution_count": 15,
   "id": "a9d9e131-de6c-412b-8565-ac2217a7a68a",
   "metadata": {},
   "outputs": [
    {
     "data": {
      "text/html": [
       "<div>\n",
       "<style scoped>\n",
       "    .dataframe tbody tr th:only-of-type {\n",
       "        vertical-align: middle;\n",
       "    }\n",
       "\n",
       "    .dataframe tbody tr th {\n",
       "        vertical-align: top;\n",
       "    }\n",
       "\n",
       "    .dataframe thead th {\n",
       "        text-align: right;\n",
       "    }\n",
       "</style>\n",
       "<table border=\"1\" class=\"dataframe\">\n",
       "  <thead>\n",
       "    <tr style=\"text-align: right;\">\n",
       "      <th></th>\n",
       "      <th>이름</th>\n",
       "      <th>학교</th>\n",
       "      <th>키</th>\n",
       "      <th>국어</th>\n",
       "      <th>영어</th>\n",
       "      <th>수학</th>\n",
       "      <th>과학</th>\n",
       "      <th>사회</th>\n",
       "      <th>SW특기</th>\n",
       "    </tr>\n",
       "    <tr>\n",
       "      <th>지원번호</th>\n",
       "      <th></th>\n",
       "      <th></th>\n",
       "      <th></th>\n",
       "      <th></th>\n",
       "      <th></th>\n",
       "      <th></th>\n",
       "      <th></th>\n",
       "      <th></th>\n",
       "      <th></th>\n",
       "    </tr>\n",
       "  </thead>\n",
       "  <tbody>\n",
       "    <tr>\n",
       "      <th>1번</th>\n",
       "      <td>채치수</td>\n",
       "      <td>북산고</td>\n",
       "      <td>197</td>\n",
       "      <td>90</td>\n",
       "      <td>85</td>\n",
       "      <td>100</td>\n",
       "      <td>95</td>\n",
       "      <td>85</td>\n",
       "      <td>Python</td>\n",
       "    </tr>\n",
       "    <tr>\n",
       "      <th>2번</th>\n",
       "      <td>정대만</td>\n",
       "      <td>북산고</td>\n",
       "      <td>184</td>\n",
       "      <td>40</td>\n",
       "      <td>35</td>\n",
       "      <td>50</td>\n",
       "      <td>55</td>\n",
       "      <td>25</td>\n",
       "      <td>Java</td>\n",
       "    </tr>\n",
       "    <tr>\n",
       "      <th>3번</th>\n",
       "      <td>송태섭</td>\n",
       "      <td>북산고</td>\n",
       "      <td>168</td>\n",
       "      <td>80</td>\n",
       "      <td>75</td>\n",
       "      <td>70</td>\n",
       "      <td>80</td>\n",
       "      <td>75</td>\n",
       "      <td>Javascript</td>\n",
       "    </tr>\n",
       "    <tr>\n",
       "      <th>4번</th>\n",
       "      <td>서태웅</td>\n",
       "      <td>북산고</td>\n",
       "      <td>187</td>\n",
       "      <td>40</td>\n",
       "      <td>60</td>\n",
       "      <td>70</td>\n",
       "      <td>75</td>\n",
       "      <td>80</td>\n",
       "      <td>NaN</td>\n",
       "    </tr>\n",
       "    <tr>\n",
       "      <th>5번</th>\n",
       "      <td>강백호</td>\n",
       "      <td>북산고</td>\n",
       "      <td>188</td>\n",
       "      <td>15</td>\n",
       "      <td>20</td>\n",
       "      <td>10</td>\n",
       "      <td>35</td>\n",
       "      <td>10</td>\n",
       "      <td>NaN</td>\n",
       "    </tr>\n",
       "    <tr>\n",
       "      <th>6번</th>\n",
       "      <td>변덕규</td>\n",
       "      <td>능남고</td>\n",
       "      <td>202</td>\n",
       "      <td>80</td>\n",
       "      <td>100</td>\n",
       "      <td>95</td>\n",
       "      <td>85</td>\n",
       "      <td>80</td>\n",
       "      <td>C</td>\n",
       "    </tr>\n",
       "    <tr>\n",
       "      <th>7번</th>\n",
       "      <td>황태산</td>\n",
       "      <td>능남고</td>\n",
       "      <td>188</td>\n",
       "      <td>55</td>\n",
       "      <td>65</td>\n",
       "      <td>45</td>\n",
       "      <td>40</td>\n",
       "      <td>35</td>\n",
       "      <td>PYTHON</td>\n",
       "    </tr>\n",
       "    <tr>\n",
       "      <th>8번</th>\n",
       "      <td>윤대협</td>\n",
       "      <td>능남고</td>\n",
       "      <td>190</td>\n",
       "      <td>100</td>\n",
       "      <td>85</td>\n",
       "      <td>90</td>\n",
       "      <td>95</td>\n",
       "      <td>95</td>\n",
       "      <td>C#</td>\n",
       "    </tr>\n",
       "  </tbody>\n",
       "</table>\n",
       "</div>"
      ],
      "text/plain": [
       "       이름   학교    키   국어   영어   수학  과학  사회        SW특기\n",
       "지원번호                                                  \n",
       "1번    채치수  북산고  197   90   85  100  95  85      Python\n",
       "2번    정대만  북산고  184   40   35   50  55  25        Java\n",
       "3번    송태섭  북산고  168   80   75   70  80  75  Javascript\n",
       "4번    서태웅  북산고  187   40   60   70  75  80         NaN\n",
       "5번    강백호  북산고  188   15   20   10  35  10         NaN\n",
       "6번    변덕규  능남고  202   80  100   95  85  80           C\n",
       "7번    황태산  능남고  188   55   65   45  40  35      PYTHON\n",
       "8번    윤대협  능남고  190  100   85   90  95  95          C#"
      ]
     },
     "execution_count": 15,
     "metadata": {},
     "output_type": "execute_result"
    }
   ],
   "source": [
    "df"
   ]
  },
  {
   "cell_type": "code",
   "execution_count": 17,
   "id": "96e28684-8f87-4ffd-aa55-d173f16e3ece",
   "metadata": {},
   "outputs": [
    {
     "data": {
      "text/plain": [
       "지원번호\n",
       "1번    85\n",
       "2번    35\n",
       "3번    75\n",
       "4번    60\n",
       "5번    20\n",
       "Name: 영어, dtype: int64"
      ]
     },
     "execution_count": 17,
     "metadata": {},
     "output_type": "execute_result"
    }
   ],
   "source": [
    "df['영어'][0:5] # 0 ~ 4 까지의 영어 점수 데이터 가져옴"
   ]
  },
  {
   "cell_type": "code",
   "execution_count": 19,
   "id": "8564a61d-f459-4f03-857e-eeba26224179",
   "metadata": {},
   "outputs": [
    {
     "data": {
      "text/html": [
       "<div>\n",
       "<style scoped>\n",
       "    .dataframe tbody tr th:only-of-type {\n",
       "        vertical-align: middle;\n",
       "    }\n",
       "\n",
       "    .dataframe tbody tr th {\n",
       "        vertical-align: top;\n",
       "    }\n",
       "\n",
       "    .dataframe thead th {\n",
       "        text-align: right;\n",
       "    }\n",
       "</style>\n",
       "<table border=\"1\" class=\"dataframe\">\n",
       "  <thead>\n",
       "    <tr style=\"text-align: right;\">\n",
       "      <th></th>\n",
       "      <th>이름</th>\n",
       "      <th>키</th>\n",
       "    </tr>\n",
       "    <tr>\n",
       "      <th>지원번호</th>\n",
       "      <th></th>\n",
       "      <th></th>\n",
       "    </tr>\n",
       "  </thead>\n",
       "  <tbody>\n",
       "    <tr>\n",
       "      <th>1번</th>\n",
       "      <td>채치수</td>\n",
       "      <td>197</td>\n",
       "    </tr>\n",
       "    <tr>\n",
       "      <th>2번</th>\n",
       "      <td>정대만</td>\n",
       "      <td>184</td>\n",
       "    </tr>\n",
       "    <tr>\n",
       "      <th>3번</th>\n",
       "      <td>송태섭</td>\n",
       "      <td>168</td>\n",
       "    </tr>\n",
       "  </tbody>\n",
       "</table>\n",
       "</div>"
      ],
      "text/plain": [
       "       이름    키\n",
       "지원번호          \n",
       "1번    채치수  197\n",
       "2번    정대만  184\n",
       "3번    송태섭  168"
      ]
     },
     "execution_count": 19,
     "metadata": {},
     "output_type": "execute_result"
    }
   ],
   "source": [
    "df[['이름','키']][:3] # 처음 3명의 이름, 키 정보를 가져옴"
   ]
  },
  {
   "cell_type": "code",
   "execution_count": 20,
   "id": "52d53531-4ee7-41eb-98a2-40cdce363f78",
   "metadata": {},
   "outputs": [
    {
     "data": {
      "text/html": [
       "<div>\n",
       "<style scoped>\n",
       "    .dataframe tbody tr th:only-of-type {\n",
       "        vertical-align: middle;\n",
       "    }\n",
       "\n",
       "    .dataframe tbody tr th {\n",
       "        vertical-align: top;\n",
       "    }\n",
       "\n",
       "    .dataframe thead th {\n",
       "        text-align: right;\n",
       "    }\n",
       "</style>\n",
       "<table border=\"1\" class=\"dataframe\">\n",
       "  <thead>\n",
       "    <tr style=\"text-align: right;\">\n",
       "      <th></th>\n",
       "      <th>이름</th>\n",
       "      <th>학교</th>\n",
       "      <th>키</th>\n",
       "      <th>국어</th>\n",
       "      <th>영어</th>\n",
       "      <th>수학</th>\n",
       "      <th>과학</th>\n",
       "      <th>사회</th>\n",
       "      <th>SW특기</th>\n",
       "    </tr>\n",
       "    <tr>\n",
       "      <th>지원번호</th>\n",
       "      <th></th>\n",
       "      <th></th>\n",
       "      <th></th>\n",
       "      <th></th>\n",
       "      <th></th>\n",
       "      <th></th>\n",
       "      <th></th>\n",
       "      <th></th>\n",
       "      <th></th>\n",
       "    </tr>\n",
       "  </thead>\n",
       "  <tbody>\n",
       "    <tr>\n",
       "      <th>4번</th>\n",
       "      <td>서태웅</td>\n",
       "      <td>북산고</td>\n",
       "      <td>187</td>\n",
       "      <td>40</td>\n",
       "      <td>60</td>\n",
       "      <td>70</td>\n",
       "      <td>75</td>\n",
       "      <td>80</td>\n",
       "      <td>NaN</td>\n",
       "    </tr>\n",
       "    <tr>\n",
       "      <th>5번</th>\n",
       "      <td>강백호</td>\n",
       "      <td>북산고</td>\n",
       "      <td>188</td>\n",
       "      <td>15</td>\n",
       "      <td>20</td>\n",
       "      <td>10</td>\n",
       "      <td>35</td>\n",
       "      <td>10</td>\n",
       "      <td>NaN</td>\n",
       "    </tr>\n",
       "    <tr>\n",
       "      <th>6번</th>\n",
       "      <td>변덕규</td>\n",
       "      <td>능남고</td>\n",
       "      <td>202</td>\n",
       "      <td>80</td>\n",
       "      <td>100</td>\n",
       "      <td>95</td>\n",
       "      <td>85</td>\n",
       "      <td>80</td>\n",
       "      <td>C</td>\n",
       "    </tr>\n",
       "    <tr>\n",
       "      <th>7번</th>\n",
       "      <td>황태산</td>\n",
       "      <td>능남고</td>\n",
       "      <td>188</td>\n",
       "      <td>55</td>\n",
       "      <td>65</td>\n",
       "      <td>45</td>\n",
       "      <td>40</td>\n",
       "      <td>35</td>\n",
       "      <td>PYTHON</td>\n",
       "    </tr>\n",
       "    <tr>\n",
       "      <th>8번</th>\n",
       "      <td>윤대협</td>\n",
       "      <td>능남고</td>\n",
       "      <td>190</td>\n",
       "      <td>100</td>\n",
       "      <td>85</td>\n",
       "      <td>90</td>\n",
       "      <td>95</td>\n",
       "      <td>95</td>\n",
       "      <td>C#</td>\n",
       "    </tr>\n",
       "  </tbody>\n",
       "</table>\n",
       "</div>"
      ],
      "text/plain": [
       "       이름   학교    키   국어   영어  수학  과학  사회    SW특기\n",
       "지원번호                                             \n",
       "4번    서태웅  북산고  187   40   60  70  75  80     NaN\n",
       "5번    강백호  북산고  188   15   20  10  35  10     NaN\n",
       "6번    변덕규  능남고  202   80  100  95  85  80       C\n",
       "7번    황태산  능남고  188   55   65  45  40  35  PYTHON\n",
       "8번    윤대협  능남고  190  100   85  90  95  95      C#"
      ]
     },
     "execution_count": 20,
     "metadata": {},
     "output_type": "execute_result"
    }
   ],
   "source": [
    "df[3:]"
   ]
  },
  {
   "cell_type": "code",
   "execution_count": null,
   "id": "4a274cd3-43b5-4a35-917f-d441b0362a22",
   "metadata": {},
   "outputs": [],
   "source": []
  },
  {
   "cell_type": "code",
   "execution_count": null,
   "id": "332316bc-f65c-4ed3-a88c-cf54a14a45cc",
   "metadata": {},
   "outputs": [],
   "source": []
  },
  {
   "cell_type": "code",
   "execution_count": null,
   "id": "7ebe4154-17e9-42d6-8db1-a0cf31de56fb",
   "metadata": {},
   "outputs": [],
   "source": []
  },
  {
   "cell_type": "code",
   "execution_count": null,
   "id": "0a71493f-aa25-4214-b07e-377f68091e2e",
   "metadata": {},
   "outputs": [],
   "source": []
  },
  {
   "cell_type": "code",
   "execution_count": null,
   "id": "41a50475-ec85-440b-9ff6-ecb6c02b9e90",
   "metadata": {},
   "outputs": [],
   "source": []
  },
  {
   "cell_type": "code",
   "execution_count": null,
   "id": "50779db3-7c60-4f3b-a2eb-75818cbffb89",
   "metadata": {},
   "outputs": [],
   "source": []
  },
  {
   "cell_type": "code",
   "execution_count": null,
   "id": "5fc3d209-bd85-4718-b608-0cf4ddc8d9e1",
   "metadata": {},
   "outputs": [],
   "source": []
  },
  {
   "cell_type": "code",
   "execution_count": null,
   "id": "1083f375-6289-4462-9ab0-19a13490d2e7",
   "metadata": {},
   "outputs": [],
   "source": []
  },
  {
   "cell_type": "code",
   "execution_count": null,
   "id": "b9ffd48a-65f5-4300-824b-7f134e99e1b2",
   "metadata": {},
   "outputs": [],
   "source": []
  },
  {
   "cell_type": "code",
   "execution_count": null,
   "id": "038fcddb-5b6f-46f4-b65e-5b44bae06d1a",
   "metadata": {},
   "outputs": [],
   "source": []
  }
 ],
 "metadata": {
  "kernelspec": {
   "display_name": "Python 3 (ipykernel)",
   "language": "python",
   "name": "python3"
  },
  "language_info": {
   "codemirror_mode": {
    "name": "ipython",
    "version": 3
   },
   "file_extension": ".py",
   "mimetype": "text/x-python",
   "name": "python",
   "nbconvert_exporter": "python",
   "pygments_lexer": "ipython3",
   "version": "3.12.9"
  }
 },
 "nbformat": 4,
 "nbformat_minor": 5
}
