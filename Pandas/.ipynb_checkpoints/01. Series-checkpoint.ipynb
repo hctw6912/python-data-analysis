{
 "cells": [
  {
   "metadata": {},
   "cell_type": "markdown",
   "source": [
    "# Pandas\n",
    "파이썬에서 사용하는 데이터 분석 라이브러리"
   ],
   "id": "f5012a74298f435e"
  },
  {
   "metadata": {
    "ExecuteTime": {
     "end_time": "2025-07-09T08:47:32.413907Z",
     "start_time": "2025-07-09T08:47:32.059759Z"
    }
   },
   "cell_type": "code",
   "source": "import pandas as pd",
   "id": "ecc892016e59af69",
   "outputs": [],
   "execution_count": 1
  },
  {
   "metadata": {},
   "cell_type": "markdown",
   "source": [
    "# 1. Series\n",
    "1차원 데이터 (정수, 실수, 문자열 등)"
   ],
   "id": "d4f66ce4bbaa697a"
  },
  {
   "metadata": {},
   "cell_type": "markdown",
   "source": [
    "## Series 객체 생성\n",
    "예) 1월부터 4월까지 평균 온도 데이터 (-20, -10, 10, 20)"
   ],
   "id": "dfdaea0a4ee6e458"
  },
  {
   "metadata": {
    "ExecuteTime": {
     "end_time": "2025-07-09T08:50:23.996559Z",
     "start_time": "2025-07-09T08:50:23.978668Z"
    }
   },
   "cell_type": "code",
   "source": [
    "temp = pd.Series([-20,-10,10,20])\n",
    "temp"
   ],
   "id": "befcbe11db0e9ddf",
   "outputs": [
    {
     "data": {
      "text/plain": [
       "0   -20\n",
       "1   -10\n",
       "2    10\n",
       "3    20\n",
       "dtype: int64"
      ]
     },
     "execution_count": 3,
     "metadata": {},
     "output_type": "execute_result"
    }
   ],
   "execution_count": 3
  },
  {
   "metadata": {
    "ExecuteTime": {
     "end_time": "2025-07-09T08:50:57.441024Z",
     "start_time": "2025-07-09T08:50:57.435254Z"
    }
   },
   "cell_type": "code",
   "source": "temp[0] # 1월 온도 정보",
   "id": "3cd1dcfce54255fc",
   "outputs": [
    {
     "data": {
      "text/plain": [
       "np.int64(-20)"
      ]
     },
     "execution_count": 4,
     "metadata": {},
     "output_type": "execute_result"
    }
   ],
   "execution_count": 4
  },
  {
   "metadata": {
    "ExecuteTime": {
     "end_time": "2025-07-09T08:51:15.330510Z",
     "start_time": "2025-07-09T08:51:15.325904Z"
    }
   },
   "cell_type": "code",
   "source": "temp[2] # 3월 온도",
   "id": "1ebd7c198ece79d5",
   "outputs": [
    {
     "data": {
      "text/plain": [
       "np.int64(10)"
      ]
     },
     "execution_count": 5,
     "metadata": {},
     "output_type": "execute_result"
    }
   ],
   "execution_count": 5
  },
  {
   "metadata": {},
   "cell_type": "markdown",
   "source": "# Series 객체 생성 (index 지정)",
   "id": "f93ee79b5423b5f5"
  },
  {
   "metadata": {
    "ExecuteTime": {
     "end_time": "2025-07-09T08:54:37.980989Z",
     "start_time": "2025-07-09T08:54:37.975212Z"
    }
   },
   "cell_type": "code",
   "source": [
    "temp = pd.Series([-20,-10,10,20],index = ['Jan','Feb','Mar','Apr'])\n",
    "temp"
   ],
   "id": "d64a4f1e89f86131",
   "outputs": [
    {
     "data": {
      "text/plain": [
       "Jan   -20\n",
       "Feb   -10\n",
       "Mar    10\n",
       "Apr    20\n",
       "dtype: int64"
      ]
     },
     "execution_count": 11,
     "metadata": {},
     "output_type": "execute_result"
    }
   ],
   "execution_count": 11
  },
  {
   "metadata": {
    "ExecuteTime": {
     "end_time": "2025-07-09T08:53:44.392861Z",
     "start_time": "2025-07-09T08:53:44.387930Z"
    }
   },
   "cell_type": "code",
   "source": "temp['Apr']",
   "id": "9db8a06af50ea0a4",
   "outputs": [
    {
     "data": {
      "text/plain": [
       "np.int64(20)"
      ]
     },
     "execution_count": 7,
     "metadata": {},
     "output_type": "execute_result"
    }
   ],
   "execution_count": 7
  },
  {
   "metadata": {
    "ExecuteTime": {
     "end_time": "2025-07-09T08:54:39.674857Z",
     "start_time": "2025-07-09T08:54:39.670360Z"
    }
   },
   "cell_type": "code",
   "source": "temp['Jan']",
   "id": "110743b51e4b460",
   "outputs": [
    {
     "data": {
      "text/plain": [
       "np.int64(-20)"
      ]
     },
     "execution_count": 12,
     "metadata": {},
     "output_type": "execute_result"
    }
   ],
   "execution_count": 12
  },
  {
   "metadata": {},
   "cell_type": "code",
   "outputs": [],
   "execution_count": null,
   "source": "",
   "id": "a7e70f6c96202a2c"
  }
 ],
 "metadata": {
  "kernelspec": {
   "display_name": "Python 3",
   "language": "python",
   "name": "python3"
  },
  "language_info": {
   "codemirror_mode": {
    "name": "ipython",
    "version": 2
   },
   "file_extension": ".py",
   "mimetype": "text/x-python",
   "name": "python",
   "nbconvert_exporter": "python",
   "pygments_lexer": "ipython2",
   "version": "2.7.6"
  }
 },
 "nbformat": 4,
 "nbformat_minor": 5
}
