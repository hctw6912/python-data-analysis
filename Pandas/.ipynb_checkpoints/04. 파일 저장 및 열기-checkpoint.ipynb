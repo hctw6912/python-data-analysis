{
 "cells": [
  {
   "metadata": {},
   "cell_type": "markdown",
   "source": "",
   "id": "7efd7d5e1db6b9cb"
  },
  {
   "metadata": {},
   "cell_type": "markdown",
   "source": [
    "# 4. 파일 저장 및 열기\n",
    "DataFrame 객체를 excel, csv, txt 등 형태의 파일로 저장 및 열기"
   ],
   "id": "aebcfbc4ceb3c3a1"
  },
  {
   "metadata": {},
   "cell_type": "code",
   "outputs": [],
   "execution_count": null,
   "source": "",
   "id": "f16b49d3316ed2f2"
  },
  {
   "metadata": {},
   "cell_type": "code",
   "outputs": [],
   "execution_count": null,
   "source": "",
   "id": "294e9830e240cb2"
  },
  {
   "metadata": {},
   "cell_type": "code",
   "outputs": [],
   "execution_count": null,
   "source": "",
   "id": "f1f7130bf4ba32af"
  },
  {
   "metadata": {
    "ExecuteTime": {
     "end_time": "2025-07-10T05:34:53.670980Z",
     "start_time": "2025-07-10T05:34:53.667897Z"
    }
   },
   "cell_type": "code",
   "source": "",
   "id": "a8d64d5751f3761c",
   "outputs": [],
   "execution_count": null
  },
  {
   "metadata": {},
   "cell_type": "code",
   "outputs": [],
   "execution_count": null,
   "source": "",
   "id": "c1729dc962d8990d"
  }
 ],
 "metadata": {
  "kernelspec": {
   "display_name": "Python 3",
   "language": "python",
   "name": "python3"
  },
  "language_info": {
   "codemirror_mode": {
    "name": "ipython",
    "version": 2
   },
   "file_extension": ".py",
   "mimetype": "text/x-python",
   "name": "python",
   "nbconvert_exporter": "python",
   "pygments_lexer": "ipython2",
   "version": "2.7.6"
  }
 },
 "nbformat": 4,
 "nbformat_minor": 5
}
